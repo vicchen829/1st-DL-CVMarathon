{
 "cells": [
  {
   "cell_type": "markdown",
   "metadata": {},
   "source": [
    "# 範例\n",
    "Hint: 人物原始邊框座標 (60, 40), (420, 510)    \n",
    "\n",
    "請根據 Lena 圖做以下處理    \n",
    "\n",
    "1. 對明亮度做直方圖均衡處理\n",
    "2. 水平鏡像 + 縮放處理 (0.5 倍)\n",
    "3. 畫出人物矩形邊框"
   ]
  },
  {
   "cell_type": "code",
   "execution_count": 1,
   "metadata": {},
   "outputs": [],
   "source": [
    "import cv2\n",
    "import numpy as np\n",
    "\n",
    "img=cv2.imread('lena.png')"
   ]
  },
  {
   "cell_type": "markdown",
   "metadata": {},
   "source": [
    "# Hint: 矩形"
   ]
  },
  {
   "cell_type": "code",
   "execution_count": 22,
   "metadata": {},
   "outputs": [],
   "source": [
    "img_rect = img.copy()\n",
    "cv2.rectangle(img_rect, (60, 40), (420, 510), (0, 0, 255), 3)\n",
    "\n",
    "while True:\n",
    "    cv2.imshow('image', img_rect)\n",
    "    k = cv2.waitKey(0)\n",
    "    if k == 27:\n",
    "        cv2.destroyAllWindows()\n",
    "        break"
   ]
  },
  {
   "cell_type": "markdown",
   "metadata": {},
   "source": [
    "# Hint: 線"
   ]
  },
  {
   "cell_type": "code",
   "execution_count": 3,
   "metadata": {},
   "outputs": [],
   "source": [
    "img_line = img.copy()\n",
    "cv2.line(img_line, (60, 40), (420, 510), (0, 0, 255), 3)\n",
    "\n",
    "while True:\n",
    "    cv2.imshow('image', img_line)\n",
    "    k = cv2.waitKey(0)\n",
    "    if k == 27:\n",
    "        cv2.destroyAllWindows()\n",
    "        break"
   ]
  },
  {
   "cell_type": "markdown",
   "metadata": {},
   "source": [
    "# Hint: 文字"
   ]
  },
  {
   "cell_type": "code",
   "execution_count": 4,
   "metadata": {},
   "outputs": [],
   "source": [
    "img_text = img.copy()\n",
    "cv2.putText(img_text, '(60, 40)', (60, 40), 0, 1, (0, 0, 255), 2)\n",
    "\n",
    "while True:\n",
    "    cv2.imshow('image', img_text)\n",
    "    k = cv2.waitKey(0)\n",
    "    if k == 27:\n",
    "        cv2.destroyAllWindows()\n",
    "        break"
   ]
  },
  {
   "cell_type": "markdown",
   "metadata": {},
   "source": [
    "# 解法一\n",
    "根據題目，參考之前的投影片，最簡單的方式是    \n",
    "\n",
    "1. 顏色的操作 (對明亮度做直方圖均衡)\n",
    "2. 把矩形邊框畫在圖片上之後在做位置上的變換\n",
    "得到的圖的結果正確，但你不知道新的矩型邊框座標點"
   ]
  },
  {
   "cell_type": "code",
   "execution_count": 26,
   "metadata": {},
   "outputs": [],
   "source": [
    "img_hw=img.copy()\n",
    "point1=(60,40)\n",
    "point2=(420,510)\n",
    "\n",
    "\"\"\"\n",
    "對明亮度做直方圖均衡\n",
    "\"\"\"\n",
    "#原始BRG圖片轉HSV圖片\n",
    "img_hw=cv2.cvtColor(img_hw,cv2.COLOR_BGR2HSV)\n",
    "\n",
    "#對明亮度做直方圖均衡 --> 對HSV的V做直方圖均衡\n",
    "img_hw[...,-1]=cv2.equalizeHist(img_hw[...,-1])\n",
    "\n",
    "#將圖片轉回BGR\n",
    "img_hw=cv2.cvtColor(img_hw,cv2.COLOR_HSV2BGR)\n",
    "\n",
    "\"\"\"\n",
    "畫出人物矩形邊框\n",
    "\"\"\"\n",
    "cv2.rectangle(img_hw,point1,point2,(0,0,255),3)\n",
    "\n",
    "\"\"\"\n",
    "水平鏡像 + 縮放處理 (0.5 倍)\n",
    "\"\"\"\n",
    "#水平鏡像(圖片)\n",
    "img_hw=img_hw[:,::-1,:]\n",
    "\n",
    "#縮放處理\n",
    "img_hw=cv2.resize(img_hw,None,fx=0.5,fy=0.5,interpolation=cv2.INTER_LINEAR)\n",
    "\n",
    "while True:\n",
    "    cv2.imshow('image', img_hw)\n",
    "    k = cv2.waitKey(0)\n",
    "    if k == 27:\n",
    "        cv2.destroyAllWindows()\n",
    "        break"
   ]
  },
  {
   "cell_type": "markdown",
   "metadata": {},
   "source": [
    "# 解法二\n",
    "如果希望得知矩型邊框的位置\n",
    "\n",
    "1. 顏色的操作 (對明亮度做直方圖均衡)\n",
    "2. 鏡像可以透過四則運算得知\n",
    "3. 透過建構 transformation matrix 做縮放\n",
    "4. 把矩型邊框的點與 transformation matrix 相乘就會得到縮放後的位置\n",
    "5. 畫圖    \n",
    "得到的圖的結果正確，同時也知道新的矩型邊框座標點"
   ]
  },
  {
   "cell_type": "code",
   "execution_count": 32,
   "metadata": {},
   "outputs": [
    {
     "name": "stdout",
     "output_type": "stream",
     "text": [
      "origin point1=[92, 40], origin point2=[452, 510]\n",
      "resize point1=(46, 20), resize point2=(226, 255)\n"
     ]
    }
   ],
   "source": [
    "img_hw=img.copy()\n",
    "point1=[60,40]\n",
    "point2=[420,510]\n",
    "\n",
    "\"\"\"\n",
    "對明亮度做直方圖均衡\n",
    "\"\"\"\n",
    "# 原始 BGR 圖片轉 HSV 圖片\n",
    "img_hw = cv2.cvtColor(img_hw, cv2.COLOR_BGR2HSV)\n",
    "\n",
    "# 對明亮度做直方圖均衡 -> 對 HSV 的 V 做直方圖均衡\n",
    "img_hw[...,-1]=cv2.equalizeHist(img_hw[...,-1])\n",
    "\n",
    "# 將圖片轉回 BGR\n",
    "img_hw = cv2.cvtColor(img_hw, cv2.COLOR_HSV2BGR)\n",
    "\n",
    "\"\"\"\n",
    "水平鏡像\n",
    "\"\"\"\n",
    "h, w = img_hw.shape[:2]\n",
    "\n",
    "# 圖片鏡像\n",
    "img_hw = img_hw[:,::-1,:]\n",
    "\n",
    "# 透過四則運算計算鏡像後位置\n",
    "# 確保點的位置一樣是左上跟右下，所以交換鏡像後的 x 座標 (y 座標做水平鏡像後位置不變)\n",
    "point1[0] = img_hw.shape[0]-420\n",
    "point2[0] = img_hw.shape[0]-60\n",
    "\n",
    "\"\"\"\n",
    "縮放處理 (0.5 倍)\n",
    "\"\"\"\n",
    "fx = 0.5\n",
    "fy = 0.5\n",
    "resize_col = int(img_hw.shape[1]*fx)\n",
    "resize_row = int(img_hw.shape[0]*fy)\n",
    "\n",
    "\n",
    "# 建構 scale matrix\n",
    "M_scale = np.array([[0.5,0,0],\n",
    "                   [0,0.5,0]],dtype=np.float32)\n",
    "img_hw = cv2.warpAffine(img_hw,M_scale,(resize_row,resize_col))\n",
    "\n",
    "# 把左上跟右下轉為矩陣型式\n",
    "bbox = np.array((point1, point2), dtype=np.float32)\n",
    "#print('M_scale.shape={}, bbox.shape={}'.format(M_scale.shape, bbox.shape))\n",
    "\n",
    "# 做矩陣乘法可以使用 `np.dot`, 為了做矩陣乘法, M_scale 需要做轉置之後才能相乘\n",
    "homo_coor_result = np.dot(M_scale.T, bbox)\n",
    "homo_coor_result = homo_coor_result.astype('uint8')\n",
    "#print(homo_coor_result)\n",
    "scale_point1 = tuple(homo_coor_result[0])\n",
    "scale_point2 = tuple(homo_coor_result[1])\n",
    "print('origin point1={}, origin point2={}'.format(point1, point2))\n",
    "print('resize point1={}, resize point2={}'.format(scale_point1, scale_point2))\n",
    "\n",
    "# 畫圖\n",
    "cv2.rectangle(img_hw, scale_point1, scale_point2, (0, 0, 255), 3)\n",
    "\n",
    "while True:\n",
    "    cv2.imshow('image', img_hw)\n",
    "    k = cv2.waitKey(0)\n",
    "    if k == 27:\n",
    "        cv2.destroyAllWindows()\n",
    "        break"
   ]
  },
  {
   "cell_type": "code",
   "execution_count": null,
   "metadata": {},
   "outputs": [],
   "source": []
  }
 ],
 "metadata": {
  "kernelspec": {
   "display_name": "Python 3",
   "language": "python",
   "name": "python3"
  },
  "language_info": {
   "codemirror_mode": {
    "name": "ipython",
    "version": 3
   },
   "file_extension": ".py",
   "mimetype": "text/x-python",
   "name": "python",
   "nbconvert_exporter": "python",
   "pygments_lexer": "ipython3",
   "version": "3.7.3"
  }
 },
 "nbformat": 4,
 "nbformat_minor": 2
}
