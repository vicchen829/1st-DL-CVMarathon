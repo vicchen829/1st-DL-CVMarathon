{
 "cells": [
  {
   "cell_type": "markdown",
   "metadata": {},
   "source": [
    "# 實作各種不一樣的方式來調整飽和、對比、明亮\n",
    "\n",
    "1. 改變到 HSL color space 來調整飽和度\n",
    "2. 對灰階圖實作直方圖均衡\n",
    "3. alpha/ beta 調整對比 / 明亮"
   ]
  },
  {
   "cell_type": "code",
   "execution_count": 1,
   "metadata": {},
   "outputs": [],
   "source": [
    "import numpy as np\n",
    "import cv2\n",
    "\n",
    "img_path='lena.png'\n",
    "img=cv2.imread(img_path,cv2.IMREAD_COLOR)"
   ]
  },
  {
   "cell_type": "markdown",
   "metadata": {},
   "source": [
    "# 1. 改變飽和度"
   ]
  },
  {
   "cell_type": "code",
   "execution_count": 2,
   "metadata": {},
   "outputs": [],
   "source": [
    "# 為了要改變飽和度，我們先把 color space 轉成 HSL 格式 (OpenCV 表示順序是 HLS)\n",
    "img_hls=cv2.cvtColor(img,cv2.COLOR_BGR2HLS)\n",
    "change_percentage=0.2"
   ]
  },
  {
   "cell_type": "code",
   "execution_count": 3,
   "metadata": {},
   "outputs": [],
   "source": [
    "# 針對飽和度的值做改變，超過界線 0~1 的都會 bound\n",
    "# 在 HLS color space 減少飽和度\n",
    "img_hls_down=img_hls.astype('float32')\n",
    "img_hls_down[...,-1]=img_hls_down[...,-1]/255-change_percentage\n",
    "img_hls_down[img_hls_down[...,-1]<0]=0\n",
    "img_hls_down[...,-1]=img_hls_down[...,-1]*255\n",
    "img_hls_down=img_hls_down.astype('uint8')"
   ]
  },
  {
   "cell_type": "code",
   "execution_count": 4,
   "metadata": {},
   "outputs": [],
   "source": [
    "img_hls_up=img_hls.astype('float32')\n",
    "img_hls_up[...,-1]=img_hls_up[...,-1]/255+change_percentage\n",
    "img_hls_up[img_hls_up[...,-1]<0]=0\n",
    "img_hls_up[...,-1]=img_hls_up[...,-1]*255\n",
    "img_hls_up=img_hls_up.astype('uint8')"
   ]
  },
  {
   "cell_type": "code",
   "execution_count": 5,
   "metadata": {},
   "outputs": [],
   "source": [
    "#轉換\n",
    "img_hls_down=cv2.cvtColor(img_hls_down,cv2.COLOR_HLS2BGR)\n",
    "img_hls_up=cv2.cvtColor(img_hls_up,cv2.COLOR_HLS2BGR)"
   ]
  },
  {
   "cell_type": "code",
   "execution_count": null,
   "metadata": {},
   "outputs": [],
   "source": [
    "img_hls_change=np.hstack((img,img_hls_down,img_hls_up))\n",
    "while True:\n",
    "    cv2.imshow('change saturation',img_hls_change)\n",
    "    \n",
    "    k=cv2.waitKey(0)\n",
    "    if k==27:\n",
    "        cv2.destroyAllWindows()\n",
    "    break"
   ]
  },
  {
   "cell_type": "markdown",
   "metadata": {},
   "source": [
    "# 2. 直方圖均衡 - <span style=\"color:red\">增強灰階圖片對比度</span>"
   ]
  },
  {
   "cell_type": "code",
   "execution_count": 2,
   "metadata": {},
   "outputs": [],
   "source": [
    "#轉為灰階圖片\n",
    "img_gray=cv2.cvtColor(img,cv2.COLOR_BGR2GRAY)\n",
    "\n",
    "#灰階圖片直方圖均衡\n",
    "img_gray_equal=cv2.equalizeHist(img_gray)"
   ]
  },
  {
   "cell_type": "code",
   "execution_count": null,
   "metadata": {},
   "outputs": [],
   "source": [
    "img_gray_equalHist=np.hstack((img_gray,img_gray_equal))\n",
    "while True:\n",
    "    cv2.imshow('change saturation',img_gray_equalHist)\n",
    "    \n",
    "    k=cv2.waitKey(0)\n",
    "    if k==27:\n",
    "        cv2.destroyAllWindows()\n",
    "    break"
   ]
  },
  {
   "cell_type": "markdown",
   "metadata": {},
   "source": [
    "# 3. 調整對比、明亮"
   ]
  },
  {
   "cell_type": "code",
   "execution_count": null,
   "metadata": {},
   "outputs": [],
   "source": [
    "# alpha: 控制對比度 (1.0~3.0)\n",
    "# beta: 控制明亮度 (0~255)\n",
    "\n",
    "add_contrast=cv2.convertScaleAbs(img,alpha=2.0,beta=0)\n",
    "add_lighness=cv2.convertScaleAbs(img,alpha=1.0,beta=50)\n",
    "\n",
    "img_constrast_light=np.hstack((img,add_contrast,add_lighness))\n",
    "while True:\n",
    "    cv2.imshow('change saturation',img_constrast_light)\n",
    "    \n",
    "    k=cv2.waitKey(0)\n",
    "    if k==27:\n",
    "        cv2.destroyAllWindows()\n",
    "    break"
   ]
  },
  {
   "cell_type": "markdown",
   "metadata": {},
   "source": [
    "# 作業\n",
    "\n",
    "實作各種不一樣的方式來調整飽和 / 對比 / 明亮\n",
    "\n",
    "1. 改變 color space 來調整飽和度\n",
    "2. 實作直方圖均衡\n",
    "3. alpha/ beta 調整對比 / 明亮"
   ]
  },
  {
   "cell_type": "markdown",
   "metadata": {},
   "source": [
    "# 改變飽和度\n",
    "轉換成 HSV color space, 改變 s channel 的值"
   ]
  },
  {
   "cell_type": "code",
   "execution_count": 2,
   "metadata": {},
   "outputs": [],
   "source": [
    "# 為了要改變飽和度，我們先把 color space 轉成 HSV 格式\n",
    "img_hsv = cv2.cvtColor(img, cv2.COLOR_BGR2HSV)\n",
    "change_percentage = 0.2\n",
    "\n",
    "# 針對飽和度的值做改變，超過界線 0~1 的都會 bound\n",
    "# 在 HSV color space 減少飽和度\n",
    "img_hsv_down=img_hsv.astype('float32')\n",
    "img_hsv_down[:,:,1]=img_hsv_down[:,:,1]/255-change_percentage\n",
    "img_hsv_down[img_hsv_down[:,:,1]<0]=0\n",
    "img_hsv_down[:,:,1]=img_hsv_down[:,:,1]*255\n",
    "img_hsv_down=img_hsv_down.astype('uint8')\n",
    "\n",
    "# 在 HSV color space 增加飽和度\n",
    "img_hsv_up=img_hsv.astype('float32')\n",
    "img_hsv_up[:,:,1]=img_hsv_up[:,:,1]/255+change_percentage\n",
    "img_hsv_up[img_hsv_up[:,:,1]<0]=0\n",
    "img_hsv_up[:,:,1]=img_hsv_up[:,:,1]*255\n",
    "img_hsv_up=img_hsv_up.astype('uint8')\n",
    "\n",
    "# 轉換 color space 回 BGR\n",
    "img_hsv_down = cv2.cvtColor(img_hsv_down,cv2.COLOR_HSV2BGR)\n",
    "img_hsv_up = cv2.cvtColor(img_hsv_up,cv2.COLOR_HSV2BGR)"
   ]
  },
  {
   "cell_type": "code",
   "execution_count": null,
   "metadata": {},
   "outputs": [],
   "source": [
    "# 組合圖片 + 顯示圖片\n",
    "img_hsv_change = np.hstack((img, img_hsv_down, img_hsv_up))\n",
    "while True:\n",
    "    cv2.imshow('change saturation', img_hsv_change)\n",
    "    \n",
    "    k = cv2.waitKey(0)\n",
    "    if k == 27:\n",
    "        cv2.destroyAllWindows()\n",
    "        break"
   ]
  },
  {
   "cell_type": "markdown",
   "metadata": {},
   "source": [
    "# 直方圖均衡\n",
    "1. case 1: 把彩圖拆開對每個 channel 個別做直方圖均衡再組合起來\n",
    "2. case 2: 轉換 color space 到 HSV 之後對其中一個 channel 做直方圖均衡"
   ]
  },
  {
   "cell_type": "code",
   "execution_count": 6,
   "metadata": {},
   "outputs": [],
   "source": [
    "# case 1\n",
    "# 每個 channel 個別做直方圖均衡\n",
    "equalHist_by_channel = [img[...,0],img[...,1],img[...,2]]\n",
    "equalHist_by_channel = [cv2.equalizeHist(i) for i in equalHist_by_channel]\n",
    "\n",
    "# 組合經過直方圖均衡的每個 channel\n",
    "img_bgr_equal = cv2.merge(equalHist_by_channel)\n",
    "\n",
    "# case 2 - 轉換 color space 後只對其中一個 channel 做直方圖均衡\n",
    "img_hsv = cv2.cvtColor(img,cv2.COLOR_BGR2HSV)\n",
    "img_hsv[...,-1]=cv2.equalizeHist(img_hsv[...,-1])\n",
    "img_hsv_equal=cv2.cvtColor(img_hsv,cv2.COLOR_HSV2BGR)"
   ]
  },
  {
   "cell_type": "code",
   "execution_count": 8,
   "metadata": {},
   "outputs": [],
   "source": [
    "img_equalHist=np.hstack((img,img_bgr_equal,img_hsv_equal))\n",
    "while True:\n",
    "    cv2.imshow('change saturation',img_equalHist)\n",
    "    k=cv2.waitKey(0)\n",
    "    if k==27:\n",
    "        cv2.destroyAllWindows()\n",
    "    break"
   ]
  },
  {
   "cell_type": "markdown",
   "metadata": {},
   "source": [
    "# 調整對比 / 明亮"
   ]
  },
  {
   "cell_type": "code",
   "execution_count": 2,
   "metadata": {},
   "outputs": [],
   "source": [
    "# alpha: 控制對比度 (1.0~3.0)\n",
    "# beta: 控制明亮度 (0~255)\n",
    "add_contrast = cv2.convertScaleAbs(img,alpha=2.5,beta=0)\n",
    "add_lighness = cv2.convertScaleAbs(img,alpha=1.0,beta=150)"
   ]
  },
  {
   "cell_type": "code",
   "execution_count": null,
   "metadata": {},
   "outputs": [],
   "source": [
    "# 組合圖片 + 顯示圖片\n",
    "img_contrast_light = np.hstack((img, add_contrast, add_lighness))\n",
    "while True:\n",
    "    # 比較不同程度的對比 / 明亮\n",
    "    cv2.imshow('adjust contrast and brighness', img_contrast_light)\n",
    "    k = cv2.waitKey(0)\n",
    "    if k == 27:\n",
    "        cv2.destroyAllWindows()\n",
    "        break"
   ]
  }
 ],
 "metadata": {
  "kernelspec": {
   "display_name": "Python 3",
   "language": "python",
   "name": "python3"
  },
  "language_info": {
   "codemirror_mode": {
    "name": "ipython",
    "version": 3
   },
   "file_extension": ".py",
   "mimetype": "text/x-python",
   "name": "python",
   "nbconvert_exporter": "python",
   "pygments_lexer": "ipython3",
   "version": "3.7.4"
  }
 },
 "nbformat": 4,
 "nbformat_minor": 2
}
